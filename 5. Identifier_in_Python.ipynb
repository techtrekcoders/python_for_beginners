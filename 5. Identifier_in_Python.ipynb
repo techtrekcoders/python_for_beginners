{
 "cells": [
  {
   "cell_type": "markdown",
   "id": "f4c39ced",
   "metadata": {},
   "source": [
    "# **Identifier in Python**"
   ]
  },
  {
   "cell_type": "markdown",
   "id": "6eb33ac8",
   "metadata": {},
   "source": [
    "## **Introduction**\n",
    "- An **identifier** is the name used to identify variables, functions, classes, or other objects in Python.\n",
    "- It must be unique and follow certain rules to be valid."
   ]
  },
  {
   "cell_type": "markdown",
   "id": "3a510747",
   "metadata": {},
   "source": [
    "## **Rules for Naming Identifiers**\n",
    "1. **Start with a Letter or Underscore (_)**:\n",
    "   - Identifiers must begin with an **alphabet (A-Z, a-z)** or an **underscore (_)**.\n",
    "   - Example:\n",
    "   ```python\n",
    "   _variable = 5\n",
    "   name = \"Python\"\n",
    "   ```\n",
    "2. **Followed by Letters, Digits, or Underscores**:\n",
    "   - After the first character, you can use letters, digits (0-9), or underscores.\n",
    "   - Example:\n",
    "   ```python\n",
    "   variable1 = 10\n",
    "   first_name = \"John\"\n",
    "   ```\n",
    "3. **No Special Characters**:\n",
    "   - Identifiers cannot contain symbols like `@`, `$`, `%`, etc.\n",
    "   - Invalid Example:\n",
    "   ```python\n",
    "   var@name = 5  # SyntaxError\n",
    "   ```\n",
    "4. **Case-Sensitive**:\n",
    "   - Python identifiers are case-sensitive.\n",
    "   - Example:\n",
    "   ```python\n",
    "   Name = \"John\"\n",
    "   name = \"Doe\"\n",
    "   print(Name)  # John\n",
    "   print(name)  # Doe\n",
    "   ```\n",
    "5. **Cannot Use Reserved Words**:\n",
    "   - Identifiers cannot be the same as Python’s reserved keywords (e.g., `if`, `while`, `class`).\n",
    "   - Example:\n",
    "   ```python\n",
    "   if = 10  # SyntaxError\n",
    "   ```"
   ]
  },
  {
   "cell_type": "markdown",
   "id": "6d40ea4b",
   "metadata": {},
   "source": [
    "## **Best Practices for Naming Identifiers**\n",
    "- Use descriptive names to make the code readable.\n",
    "- Use snake_case for variable and function names.\n",
    "- Use PascalCase for class names.\n",
    "- Avoid starting identifiers with numbers.\n",
    "- Avoid overly short or single-character names, except for loop variables.\n",
    "- Example:\n",
    "```python\n",
    "# Good Practices\n",
    "total_amount = 100\n",
    "first_name = \"Alice\"\n",
    "class Person:\n",
    "    pass\n",
    "\n",
    "# Avoid Bad Practices\n",
    "a = 10  # Too short\n",
    "2variable = 20  # Starts with a number\n",
    "```"
   ]
  },
  {
   "cell_type": "markdown",
   "id": "e1bd9b5a",
   "metadata": {},
   "source": [
    "## **Reserved Keywords in Python**\n",
    "- Reserved words cannot be used as identifiers.\n",
    "- Example keywords: `if`, `else`, `while`, `for`, `class`, `def`, `import`, etc.\n",
    "- To see all Python keywords:\n",
    "```python\n",
    "import keyword\n",
    "print(keyword.kwlist)\n",
    "```"
   ]
  },
  {
   "cell_type": "markdown",
   "id": "abf9fe54",
   "metadata": {},
   "source": [
    "## **Practice Examples**\n",
    "- Identify valid and invalid identifiers:\n",
    "```python\n",
    "# Valid\n",
    "my_var = 10\n",
    "_private = \"secret\"\n",
    "count2 = 5\n",
    "\n",
    "# Invalid\n",
    "2variable = 20  # Error\n",
    "class = \"reserved\"  # Error\n",
    "```"
   ]
  },
  {
   "cell_type": "markdown",
   "id": "392ef302",
   "metadata": {},
   "source": [
    "## **Key Takeaways**\n",
    "- Identifiers are names for variables, functions, classes, etc.\n",
    "- Follow Python's naming rules and best practices to avoid errors.\n",
    "- Use meaningful names to improve code readability."
   ]
  }
 ],
 "metadata": {},
 "nbformat": 4,
 "nbformat_minor": 5
}
