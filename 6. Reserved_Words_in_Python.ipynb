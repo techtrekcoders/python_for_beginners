{
 "cells": [
  {
   "cell_type": "markdown",
   "id": "83870c59",
   "metadata": {},
   "source": [
    "# **Reserved Words in Python**"
   ]
  },
  {
   "cell_type": "markdown",
   "id": "b81576dd",
   "metadata": {},
   "source": [
    "## **Introduction**\n",
    "- Reserved words (keywords) are predefined words in Python with special meanings.\n",
    "- These words are used to define the syntax and structure of Python programs.\n",
    "- Reserved words cannot be used as identifiers (variable, function, or class names)."
   ]
  },
  {
   "cell_type": "markdown",
   "id": "c06d4af4",
   "metadata": {},
   "source": [
    "## **List of Reserved Words in Python**\n",
    "- Python has a fixed set of keywords.\n",
    "- To view all reserved words, use the `keyword` module:\n",
    "```python\n",
    "import keyword\n",
    "print(keyword.kwlist)\n",
    "```\n",
    "- Example of reserved words:\n",
    "```plaintext\n",
    "False    None    True    and    as    assert\n",
    "break    class   continue    def    del    elif\n",
    "else    except    finally    for    from    global\n",
    "if    import    in    is    lambda    nonlocal\n",
    "not    or    pass    raise    return    try\n",
    "while    with    yield\n",
    "```"
   ]
  },
  {
   "cell_type": "markdown",
   "id": "9fa46c53",
   "metadata": {},
   "source": [
    "## **Using Reserved Words**\n",
    "- Reserved words have specific purposes in Python.\n",
    "- Examples:\n",
    "  - `if`, `else`, `elif`: Conditional statements.\n",
    "  - `for`, `while`: Loops.\n",
    "  - `class`, `def`: Defining classes and functions.\n",
    "  - `import`: Importing modules.\n",
    "- Example:\n",
    "```python\n",
    "if True:\n",
    "    print(\"This is a reserved word example\")\n",
    "```"
   ]
  },
  {
   "cell_type": "markdown",
   "id": "096321a8",
   "metadata": {},
   "source": [
    "## **What Happens If You Use Reserved Words as Identifiers?**\n",
    "- Python will throw a `SyntaxError` if you try to use reserved words as identifiers.\n",
    "- Example:\n",
    "```python\n",
    "class = 5  # SyntaxError\n",
    "if = 10    # SyntaxError\n",
    "```"
   ]
  },
  {
   "cell_type": "markdown",
   "id": "233b7c83",
   "metadata": {},
   "source": [
    "## **Practice Examples**\n",
    "- Identify valid and invalid use of reserved words:\n",
    "```python\n",
    "# Valid\n",
    "number = 5\n",
    "print(number)\n",
    "\n",
    "# Invalid\n",
    "return = 10  # SyntaxError: Invalid identifier\n",
    "try = \"reserved\"  # SyntaxError: Invalid identifier\n",
    "```"
   ]
  },
  {
   "cell_type": "markdown",
   "id": "b6da292b",
   "metadata": {},
   "source": [
    "## **Best Practices**\n",
    "- Always avoid using reserved words as variable or function names.\n",
    "- Use descriptive names for identifiers to make your code readable.\n",
    "- Refer to the list of keywords before naming variables or functions."
   ]
  },
  {
   "cell_type": "markdown",
   "id": "db6b1ce3",
   "metadata": {},
   "source": [
    "## **Key Takeaways**\n",
    "- Reserved words are an integral part of Python's syntax.\n",
    "- Misusing them will result in errors.\n",
    "- Practice writing programs to familiarize yourself with their proper use."
   ]
  }
 ],
 "metadata": {},
 "nbformat": 4,
 "nbformat_minor": 5
}
