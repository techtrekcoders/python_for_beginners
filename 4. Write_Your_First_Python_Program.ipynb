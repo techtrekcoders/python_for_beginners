{
 "cells": [
  {
   "cell_type": "markdown",
   "id": "045cbf75",
   "metadata": {},
   "source": [
    "# **Write Your First Python Program**"
   ]
  },
  {
   "cell_type": "markdown",
   "id": "f7ad96cd",
   "metadata": {},
   "source": [
    "## **Introduction**\n",
    "- Writing your first Python program is a significant step in learning Python.\n",
    "- In this guide, we will create a simple program that prints a message to the console."
   ]
  },
  {
   "cell_type": "markdown",
   "id": "516dd28d",
   "metadata": {},
   "source": [
    "## **Steps to Write Your First Python Program**\n",
    "### 1. **Set Up Your Environment**\n",
    "- Install Python from [python.org](https://www.python.org).\n",
    "- Use an IDE or text editor like **PyCharm**, **VS Code**, or **Jupyter Notebook**.\n",
    "- Verify your Python installation:\n",
    "```bash\n",
    "python --version\n",
    "```"
   ]
  },
  {
   "cell_type": "markdown",
   "id": "008e7cdf",
   "metadata": {},
   "source": [
    "### 2. **Create Your Python File**\n",
    "- Open your text editor or IDE.\n",
    "- Create a new file and save it with a `.py` extension (e.g., `first_program.py`)."
   ]
  },
  {
   "cell_type": "markdown",
   "id": "e6739ae3",
   "metadata": {},
   "source": [
    "### 3. **Write Your Code**\n",
    "- Use the `print()` function to display a message.\n",
    "- Example:\n",
    "```python\n",
    "print(\"Hello, World!\")\n",
    "```\n",
    "- Save your file."
   ]
  },
  {
   "cell_type": "markdown",
   "id": "78d0facf",
   "metadata": {},
   "source": [
    "### 4. **Run Your Program**\n",
    "- Open a terminal or command prompt.\n",
    "- Navigate to the folder where your file is saved.\n",
    "- Run the program using the command:\n",
    "```bash\n",
    "python first_program.py\n",
    "```\n",
    "- Output:\n",
    "```plaintext\n",
    "Hello, World!\n",
    "```"
   ]
  },
  {
   "cell_type": "markdown",
   "id": "c68b7abc",
   "metadata": {},
   "source": [
    "## **Understanding the Code**\n",
    "- `print()` is a built-in Python function used to output text to the console.\n",
    "- The text inside the quotes (`\"\"`) is the message that will be displayed.\n",
    "- Example:\n",
    "```python\n",
    "print(\"Python is fun!\")\n",
    "```\n",
    "- Output:\n",
    "```plaintext\n",
    "Python is fun!\n",
    "```"
   ]
  },
  {
   "cell_type": "markdown",
   "id": "f6d650a2",
   "metadata": {},
   "source": [
    "## **Adding Comments**\n",
    "- Use comments to describe your code.\n",
    "- Comments are ignored during execution.\n",
    "- Example:\n",
    "```python\n",
    "# This program prints a message\n",
    "print(\"Welcome to Python programming!\")\n",
    "```"
   ]
  },
  {
   "cell_type": "markdown",
   "id": "0b58a62d",
   "metadata": {},
   "source": [
    "## **Practice Example**\n",
    "- Write a Python program to greet the user:\n",
    "```python\n",
    "# Program to greet the user\n",
    "name = input(\"Enter your name: \")\n",
    "print(f\"Hello, {name}! Welcome to Python.\")\n",
    "```\n",
    "- Run the program and observe the output."
   ]
  },
  {
   "cell_type": "markdown",
   "id": "ee426daa",
   "metadata": {},
   "source": [
    "## **Key Takeaways**\n",
    "- Writing and running a Python program is simple.\n",
    "- The `print()` function is essential for displaying output.\n",
    "- Practice writing basic programs to gain confidence."
   ]
  }
 ],
 "metadata": {},
 "nbformat": 4,
 "nbformat_minor": 5
}
