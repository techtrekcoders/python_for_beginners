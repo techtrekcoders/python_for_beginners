{
 "cells": [
  {
   "cell_type": "markdown",
   "id": "f550960e",
   "metadata": {},
   "source": [
    "# **Python Syntax: Quick Overview**"
   ]
  },
  {
   "cell_type": "markdown",
   "id": "f100d77a",
   "metadata": {},
   "source": [
    "## **Introduction**\n",
    "- Python's syntax is clean and simple, making it easy for beginners to learn.\n",
    "- It emphasizes readability and uses indentation to define blocks of code."
   ]
  },
  {
   "cell_type": "markdown",
   "id": "22c757ee",
   "metadata": {},
   "source": [
    "## **Key Elements of Python Syntax**\n",
    "### 1. **Case Sensitivity**\n",
    "- Python is case-sensitive, so `Variable` and `variable` are different.\n",
    "- Example:\n",
    "```python\n",
    "name = \"Python\"\n",
    "Name = \"Different\"\n",
    "print(name)  # Output: Python\n",
    "print(Name)  # Output: Different\n",
    "```"
   ]
  },
  {
   "cell_type": "markdown",
   "id": "14e65e3c",
   "metadata": {},
   "source": [
    "### 2. **Indentation**\n",
    "- Python uses indentation to define blocks of code.\n",
    "- There are no braces (`{}`) like in other languages.\n",
    "- Example:\n",
    "```python\n",
    "if True:\n",
    "    print(\"This is indented\")\n",
    "```\n",
    "- Incorrect indentation will result in an error:\n",
    "```python\n",
    "if True:\n",
    "print(\"Error\")  # IndentationError\n",
    "```"
   ]
  },
  {
   "cell_type": "markdown",
   "id": "eed3c7de",
   "metadata": {},
   "source": [
    "### 3. **Comments**\n",
    "- Use `#` for single-line comments.\n",
    "- Use triple quotes (`'''` or `\"\"\"`) for multi-line comments.\n",
    "- Example:\n",
    "```python\n",
    "# This is a single-line comment\n",
    "'''\n",
    "This is a \n",
    "multi-line comment\n",
    "'''\n",
    "```"
   ]
  },
  {
   "cell_type": "markdown",
   "id": "36a5527c",
   "metadata": {},
   "source": [
    "### 4. **Variables**\n",
    "- Variables do not require explicit type declaration.\n",
    "- Use descriptive names to make the code readable.\n",
    "- Example:\n",
    "```python\n",
    "x = 10  # Integer\n",
    "y = \"Hello\"  # String\n",
    "z = 3.14  # Float\n",
    "```"
   ]
  },
  {
   "cell_type": "markdown",
   "id": "f5174523",
   "metadata": {},
   "source": [
    "### 5. **Printing Output**\n",
    "- Use the `print()` function to display output.\n",
    "- Example:\n",
    "```python\n",
    "print(\"Hello, Python!\")\n",
    "```"
   ]
  },
  {
   "cell_type": "markdown",
   "id": "1de86bfa",
   "metadata": {},
   "source": [
    "### 6. **Taking Input**\n",
    "- Use the `input()` function to take user input.\n",
    "- Example:\n",
    "```python\n",
    "name = input(\"Enter your name: \")\n",
    "print(f\"Hello, {name}!\")\n",
    "```"
   ]
  },
  {
   "cell_type": "markdown",
   "id": "28e77a8f",
   "metadata": {},
   "source": [
    "### 7. **Basic Data Types**\n",
    "- Python supports multiple data types:\n",
    "  - Numbers: `int`, `float`, `complex`.\n",
    "  - Strings: Sequence of characters.\n",
    "  - Boolean: `True` or `False`.\n",
    "- Example:\n",
    "```python\n",
    "num = 42\n",
    "pi = 3.14\n",
    "is_python_fun = True\n",
    "```"
   ]
  },
  {
   "cell_type": "markdown",
   "id": "65d3490c",
   "metadata": {},
   "source": [
    "## **Control Structures**\n",
    "### If-Else Statements\n",
    "- Example:\n",
    "```python\n",
    "age = 18\n",
    "if age >= 18:\n",
    "    print(\"You are an adult.\")\n",
    "else:\n",
    "    print(\"You are a minor.\")\n",
    "```"
   ]
  },
  {
   "cell_type": "markdown",
   "id": "7ff09b44",
   "metadata": {},
   "source": [
    "### Loops\n",
    "- **For Loop**: Used to iterate over a sequence.\n",
    "- **While Loop**: Repeats as long as a condition is true.\n",
    "- Example:\n",
    "```python\n",
    "for i in range(3):\n",
    "    print(i)  # Output: 0 1 2\n",
    "```\n",
    "```python\n",
    "count = 0\n",
    "while count < 3:\n",
    "    print(count)\n",
    "    count += 1\n",
    "```"
   ]
  },
  {
   "cell_type": "markdown",
   "id": "cb06300b",
   "metadata": {},
   "source": [
    "## **Practice Example**\n",
    "- Write a Python program to check if a number is positive, negative, or zero.\n",
    "```python\n",
    "num = int(input(\"Enter a number: \"))\n",
    "if num > 0:\n",
    "    print(\"Positive\")\n",
    "elif num < 0:\n",
    "    print(\"Negative\")\n",
    "else:\n",
    "    print(\"Zero\")\n",
    "```"
   ]
  },
  {
   "cell_type": "markdown",
   "id": "ef175235",
   "metadata": {},
   "source": [
    "## **Key Takeaways**\n",
    "- Python's syntax is simple and beginner-friendly.\n",
    "- Focus on indentation, case sensitivity, and using comments effectively.\n",
    "- Practice writing basic programs to get familiar with Python syntax."
   ]
  }
 ],
 "metadata": {},
 "nbformat": 4,
 "nbformat_minor": 5
}
