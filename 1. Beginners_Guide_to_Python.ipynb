{
 "cells": [
  {
   "cell_type": "markdown",
   "id": "0e76f56e",
   "metadata": {},
   "source": [
    "# **Beginner's Guide to Python**"
   ]
  },
  {
   "cell_type": "markdown",
   "id": "670d5c6e",
   "metadata": {},
   "source": [
    "## **Introduction**\n",
    "- Python is a high-level, interpreted programming language created by **Guido van Rossum** in 1991.\n",
    "- Known for its simplicity, readability, and versatility, Python is widely used in web development, data analysis, machine learning, automation, and more."
   ]
  },
  {
   "cell_type": "markdown",
   "id": "c124c4ba",
   "metadata": {},
   "source": [
    "## **Why Learn Python?**\n",
    "- **Easy to Learn**: Python’s syntax is simple and similar to English.\n",
    "- **Versatile**: Used in various fields like web development, data science, AI, automation, and more.\n",
    "- **Large Community**: Python has extensive documentation and support through forums like Stack Overflow and Reddit."
   ]
  },
  {
   "cell_type": "markdown",
   "id": "69d401f8",
   "metadata": {},
   "source": [
    "## **Features of Python**\n",
    "- **Interpreted**: Python executes code line by line, making debugging easier.\n",
    "- **Dynamically Typed**: No need to specify variable types explicitly.\n",
    "- **Open Source**: Python is free to use and distribute.\n",
    "- **Extensive Libraries**: Python has libraries for almost every task:\n",
    "  - `NumPy`, `Pandas` for data analysis.\n",
    "  - `Django`, `Flask` for web development.\n",
    "  - `TensorFlow`, `PyTorch` for AI and ML."
   ]
  },
  {
   "cell_type": "markdown",
   "id": "0c31f7cf",
   "metadata": {},
   "source": [
    "## **Installing Python**\n",
    "- Download Python from the official website: [python.org](https://www.python.org).\n",
    "- Follow installation steps for your operating system (Windows, macOS, Linux).\n",
    "- Verify the installation using the command:\n",
    "```bash\n",
    "python --version\n",
    "```"
   ]
  },
  {
   "cell_type": "markdown",
   "id": "01812243",
   "metadata": {},
   "source": [
    "## **Hello, World! Program**\n",
    "- Writing your first Python program is easy.\n",
    "```python\n",
    "print(\"Hello, World!\")\n",
    "```\n",
    "- Save the file with a `.py` extension (e.g., `hello.py`) and run it using:\n",
    "```bash\n",
    "python hello.py\n",
    "```"
   ]
  },
  {
   "cell_type": "markdown",
   "id": "65ac7281",
   "metadata": {},
   "source": [
    "## **Basic Syntax of Python**\n",
    "- **Indentation**: Python uses indentation to define blocks of code.\n",
    "- **Comments**: Use `#` for single-line comments and triple quotes (`'''` or `\"\"\"`) for multi-line comments.\n",
    "- **Variables**: No need to declare types; assign directly.\n",
    "```python\n",
    "x = 10  # Integer\n",
    "y = \"Python\"  # String\n",
    "z = 3.14  # Float\n",
    "```"
   ]
  },
  {
   "cell_type": "markdown",
   "id": "68ed53ed",
   "metadata": {},
   "source": [
    "## **Python Data Types**\n",
    "- **Numbers**: Integers, floats, complex numbers.\n",
    "- **Strings**: Sequence of characters.\n",
    "- **Lists**: Ordered, mutable collection.\n",
    "- **Tuples**: Ordered, immutable collection.\n",
    "- **Dictionaries**: Key-value pairs.\n",
    "- **Sets**: Unordered, unique elements."
   ]
  },
  {
   "cell_type": "markdown",
   "id": "0950a12d",
   "metadata": {},
   "source": [
    "## **Control Structures**\n",
    "- **If-Else Statement**:\n",
    "```python\n",
    "x = 10\n",
    "if x > 5:\n",
    "    print(\"x is greater than 5\")\n",
    "else:\n",
    "    print(\"x is less than or equal to 5\")\n",
    "```\n",
    "- **Loops**:\n",
    "  - `for` loop: Iterate over a sequence.\n",
    "  - `while` loop: Repeat as long as a condition is true.\n",
    "```python\n",
    "for i in range(5):\n",
    "    print(i)\n",
    "```"
   ]
  },
  {
   "cell_type": "markdown",
   "id": "67859fcb",
   "metadata": {},
   "source": [
    "## **Practice Example**\n",
    "- Write a program to check if a number is even or odd.\n",
    "```python\n",
    "num = int(input(\"Enter a number: \"))\n",
    "if num % 2 == 0:\n",
    "    print(f\"{num} is even\")\n",
    "else:\n",
    "    print(f\"{num} is odd\")\n",
    "```"
   ]
  },
  {
   "cell_type": "markdown",
   "id": "67558106",
   "metadata": {},
   "source": [
    "## **Key Takeaways**\n",
    "- Python is beginner-friendly and versatile.\n",
    "- Learn by writing small programs and gradually explore advanced topics.\n",
    "- Practice regularly to master Python."
   ]
  }
 ],
 "metadata": {},
 "nbformat": 4,
 "nbformat_minor": 5
}
